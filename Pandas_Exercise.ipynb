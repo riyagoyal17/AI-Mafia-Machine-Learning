{
 "cells": [
  {
   "cell_type": "markdown",
   "metadata": {},
   "source": [
    "# <center>Introduction to Pandas</center>\n",
    "\n",
    "![](https://pandas.pydata.org/_static/pandas_logo.png)\n",
    "\n",
    "\n",
    "## Installation\n",
    "\n",
    "Simply,\n",
    "```\n",
    "pip install pandas\n",
    "```\n",
    "\n",
    "\n",
    "## Reading data from a CSV file\n",
    "\n",
    "You can read data from a CSV file using the ``read_csv`` function. By default, it assumes that the fields are comma-separated."
   ]
  },
  {
   "cell_type": "code",
   "execution_count": 1,
   "metadata": {},
   "outputs": [],
   "source": [
    "# import pandas\n",
    "import pandas as pd"
   ]
  },
  {
   "cell_type": "markdown",
   "metadata": {},
   "source": [
    ">The `imdb.csv` dataset contains Highest Rated IMDb \"Top 1000\" Titles."
   ]
  },
  {
   "cell_type": "code",
   "execution_count": 11,
   "metadata": {},
   "outputs": [],
   "source": [
    "# load imdb dataset as pandas dataframe\n",
    "imdb_df = pd.read_csv('./data/imdb_1000.csv')"
   ]
  },
  {
   "cell_type": "code",
   "execution_count": 12,
   "metadata": {},
   "outputs": [
    {
     "data": {
      "text/html": [
       "<div>\n",
       "<style scoped>\n",
       "    .dataframe tbody tr th:only-of-type {\n",
       "        vertical-align: middle;\n",
       "    }\n",
       "\n",
       "    .dataframe tbody tr th {\n",
       "        vertical-align: top;\n",
       "    }\n",
       "\n",
       "    .dataframe thead th {\n",
       "        text-align: right;\n",
       "    }\n",
       "</style>\n",
       "<table border=\"1\" class=\"dataframe\">\n",
       "  <thead>\n",
       "    <tr style=\"text-align: right;\">\n",
       "      <th></th>\n",
       "      <th>star_rating</th>\n",
       "      <th>title</th>\n",
       "      <th>content_rating</th>\n",
       "      <th>genre</th>\n",
       "      <th>duration</th>\n",
       "      <th>actors_list</th>\n",
       "    </tr>\n",
       "  </thead>\n",
       "  <tbody>\n",
       "    <tr>\n",
       "      <th>0</th>\n",
       "      <td>9.3</td>\n",
       "      <td>The Shawshank Redemption</td>\n",
       "      <td>R</td>\n",
       "      <td>Crime</td>\n",
       "      <td>142</td>\n",
       "      <td>[u'Tim Robbins', u'Morgan Freeman', u'Bob Gunt...</td>\n",
       "    </tr>\n",
       "    <tr>\n",
       "      <th>1</th>\n",
       "      <td>9.2</td>\n",
       "      <td>The Godfather</td>\n",
       "      <td>R</td>\n",
       "      <td>Crime</td>\n",
       "      <td>175</td>\n",
       "      <td>[u'Marlon Brando', u'Al Pacino', u'James Caan']</td>\n",
       "    </tr>\n",
       "    <tr>\n",
       "      <th>2</th>\n",
       "      <td>9.1</td>\n",
       "      <td>The Godfather: Part II</td>\n",
       "      <td>R</td>\n",
       "      <td>Crime</td>\n",
       "      <td>200</td>\n",
       "      <td>[u'Al Pacino', u'Robert De Niro', u'Robert Duv...</td>\n",
       "    </tr>\n",
       "    <tr>\n",
       "      <th>3</th>\n",
       "      <td>9.0</td>\n",
       "      <td>The Dark Knight</td>\n",
       "      <td>PG-13</td>\n",
       "      <td>Action</td>\n",
       "      <td>152</td>\n",
       "      <td>[u'Christian Bale', u'Heath Ledger', u'Aaron E...</td>\n",
       "    </tr>\n",
       "    <tr>\n",
       "      <th>4</th>\n",
       "      <td>8.9</td>\n",
       "      <td>Pulp Fiction</td>\n",
       "      <td>R</td>\n",
       "      <td>Crime</td>\n",
       "      <td>154</td>\n",
       "      <td>[u'John Travolta', u'Uma Thurman', u'Samuel L....</td>\n",
       "    </tr>\n",
       "  </tbody>\n",
       "</table>\n",
       "</div>"
      ],
      "text/plain": [
       "   star_rating                     title content_rating   genre  duration  \\\n",
       "0          9.3  The Shawshank Redemption              R   Crime       142   \n",
       "1          9.2             The Godfather              R   Crime       175   \n",
       "2          9.1    The Godfather: Part II              R   Crime       200   \n",
       "3          9.0           The Dark Knight          PG-13  Action       152   \n",
       "4          8.9              Pulp Fiction              R   Crime       154   \n",
       "\n",
       "                                         actors_list  \n",
       "0  [u'Tim Robbins', u'Morgan Freeman', u'Bob Gunt...  \n",
       "1    [u'Marlon Brando', u'Al Pacino', u'James Caan']  \n",
       "2  [u'Al Pacino', u'Robert De Niro', u'Robert Duv...  \n",
       "3  [u'Christian Bale', u'Heath Ledger', u'Aaron E...  \n",
       "4  [u'John Travolta', u'Uma Thurman', u'Samuel L....  "
      ]
     },
     "execution_count": 12,
     "metadata": {},
     "output_type": "execute_result"
    }
   ],
   "source": [
    "# show first 5 rows of imdb_df\n",
    "imdb_df.head()"
   ]
  },
  {
   "cell_type": "markdown",
   "metadata": {},
   "source": [
    ">The `bikes.csv` dataset contains information about the number of bicycles that used certain bicycle lanes in Montreal in the year 2012."
   ]
  },
  {
   "cell_type": "code",
   "execution_count": 37,
   "metadata": {},
   "outputs": [],
   "source": [
    "# load bikes dataset as pandas dataframe\n",
    "bike_df = pd.read_csv(\"data/bikes.csv\", sep=\";\", parse_dates=['Date'], dayfirst=True, index_col='Date')"
   ]
  },
  {
   "cell_type": "code",
   "execution_count": 38,
   "metadata": {},
   "outputs": [
    {
     "data": {
      "text/html": [
       "<div>\n",
       "<style scoped>\n",
       "    .dataframe tbody tr th:only-of-type {\n",
       "        vertical-align: middle;\n",
       "    }\n",
       "\n",
       "    .dataframe tbody tr th {\n",
       "        vertical-align: top;\n",
       "    }\n",
       "\n",
       "    .dataframe thead th {\n",
       "        text-align: right;\n",
       "    }\n",
       "</style>\n",
       "<table border=\"1\" class=\"dataframe\">\n",
       "  <thead>\n",
       "    <tr style=\"text-align: right;\">\n",
       "      <th></th>\n",
       "      <th>Unnamed: 1</th>\n",
       "      <th>Rachel / Papineau</th>\n",
       "      <th>Berri1</th>\n",
       "      <th>Maisonneuve_2</th>\n",
       "      <th>Maisonneuve_1</th>\n",
       "      <th>Brébeuf</th>\n",
       "      <th>Parc</th>\n",
       "      <th>PierDup</th>\n",
       "      <th>CSC (Côte Sainte-Catherine)</th>\n",
       "      <th>Pont_Jacques_Cartier</th>\n",
       "    </tr>\n",
       "    <tr>\n",
       "      <th>Date</th>\n",
       "      <th></th>\n",
       "      <th></th>\n",
       "      <th></th>\n",
       "      <th></th>\n",
       "      <th></th>\n",
       "      <th></th>\n",
       "      <th></th>\n",
       "      <th></th>\n",
       "      <th></th>\n",
       "      <th></th>\n",
       "    </tr>\n",
       "  </thead>\n",
       "  <tbody>\n",
       "    <tr>\n",
       "      <th>2012-01-01</th>\n",
       "      <td>00:00</td>\n",
       "      <td>16</td>\n",
       "      <td>35</td>\n",
       "      <td>51</td>\n",
       "      <td>38</td>\n",
       "      <td>5.0</td>\n",
       "      <td>26</td>\n",
       "      <td>10</td>\n",
       "      <td>0</td>\n",
       "      <td>27.0</td>\n",
       "    </tr>\n",
       "    <tr>\n",
       "      <th>2012-01-02</th>\n",
       "      <td>00:00</td>\n",
       "      <td>43</td>\n",
       "      <td>83</td>\n",
       "      <td>153</td>\n",
       "      <td>68</td>\n",
       "      <td>11.0</td>\n",
       "      <td>53</td>\n",
       "      <td>6</td>\n",
       "      <td>1</td>\n",
       "      <td>21.0</td>\n",
       "    </tr>\n",
       "    <tr>\n",
       "      <th>2012-01-03</th>\n",
       "      <td>00:00</td>\n",
       "      <td>58</td>\n",
       "      <td>135</td>\n",
       "      <td>248</td>\n",
       "      <td>104</td>\n",
       "      <td>2.0</td>\n",
       "      <td>89</td>\n",
       "      <td>3</td>\n",
       "      <td>2</td>\n",
       "      <td>15.0</td>\n",
       "    </tr>\n",
       "  </tbody>\n",
       "</table>\n",
       "</div>"
      ],
      "text/plain": [
       "           Unnamed: 1  Rachel / Papineau  Berri1  Maisonneuve_2  \\\n",
       "Date                                                              \n",
       "2012-01-01      00:00                 16      35             51   \n",
       "2012-01-02      00:00                 43      83            153   \n",
       "2012-01-03      00:00                 58     135            248   \n",
       "\n",
       "            Maisonneuve_1  Brébeuf  Parc  PierDup  \\\n",
       "Date                                                \n",
       "2012-01-01             38      5.0    26       10   \n",
       "2012-01-02             68     11.0    53        6   \n",
       "2012-01-03            104      2.0    89        3   \n",
       "\n",
       "            CSC (Côte Sainte-Catherine)  Pont_Jacques_Cartier  \n",
       "Date                                                           \n",
       "2012-01-01                            0                  27.0  \n",
       "2012-01-02                            1                  21.0  \n",
       "2012-01-03                            2                  15.0  "
      ]
     },
     "execution_count": 38,
     "metadata": {},
     "output_type": "execute_result"
    }
   ],
   "source": [
    "# show first 3 rows of bikes_df\n",
    "bike_df.head(3)"
   ]
  },
  {
   "cell_type": "markdown",
   "metadata": {},
   "source": [
    "## Selecting columns\n",
    "\n",
    "When you read a CSV, you get a kind of object called a DataFrame, which is made up of rows and columns. You get columns out of a DataFrame the same way you get elements out of a dictionary."
   ]
  },
  {
   "cell_type": "code",
   "execution_count": 18,
   "metadata": {},
   "outputs": [
    {
     "data": {
      "text/plain": [
       "Index(['star_rating', 'title', 'content_rating', 'genre', 'duration',\n",
       "       'actors_list'],\n",
       "      dtype='object')"
      ]
     },
     "execution_count": 18,
     "metadata": {},
     "output_type": "execute_result"
    }
   ],
   "source": [
    "# list columns of imdb_df\n",
    "imdb_df.columns"
   ]
  },
  {
   "cell_type": "code",
   "execution_count": 21,
   "metadata": {},
   "outputs": [
    {
     "data": {
      "text/plain": [
       "star_rating       float64\n",
       "title              object\n",
       "content_rating     object\n",
       "genre              object\n",
       "duration            int64\n",
       "actors_list        object\n",
       "dtype: object"
      ]
     },
     "execution_count": 21,
     "metadata": {},
     "output_type": "execute_result"
    }
   ],
   "source": [
    "# what are the datatypes of values in columns\n",
    "imdb_df.dtypes"
   ]
  },
  {
   "cell_type": "code",
   "execution_count": 24,
   "metadata": {},
   "outputs": [
    {
     "data": {
      "text/plain": [
       "0    The Shawshank Redemption\n",
       "1               The Godfather\n",
       "2      The Godfather: Part II\n",
       "3             The Dark Knight\n",
       "4                Pulp Fiction\n",
       "Name: title, dtype: object"
      ]
     },
     "execution_count": 24,
     "metadata": {},
     "output_type": "execute_result"
    }
   ],
   "source": [
    "# list first 5 movie titles\n",
    "imdb_df['title'].head()"
   ]
  },
  {
   "cell_type": "code",
   "execution_count": 27,
   "metadata": {},
   "outputs": [
    {
     "data": {
      "text/html": [
       "<div>\n",
       "<style scoped>\n",
       "    .dataframe tbody tr th:only-of-type {\n",
       "        vertical-align: middle;\n",
       "    }\n",
       "\n",
       "    .dataframe tbody tr th {\n",
       "        vertical-align: top;\n",
       "    }\n",
       "\n",
       "    .dataframe thead th {\n",
       "        text-align: right;\n",
       "    }\n",
       "</style>\n",
       "<table border=\"1\" class=\"dataframe\">\n",
       "  <thead>\n",
       "    <tr style=\"text-align: right;\">\n",
       "      <th></th>\n",
       "      <th>title</th>\n",
       "      <th>genre</th>\n",
       "    </tr>\n",
       "  </thead>\n",
       "  <tbody>\n",
       "    <tr>\n",
       "      <th>0</th>\n",
       "      <td>The Shawshank Redemption</td>\n",
       "      <td>Crime</td>\n",
       "    </tr>\n",
       "    <tr>\n",
       "      <th>1</th>\n",
       "      <td>The Godfather</td>\n",
       "      <td>Crime</td>\n",
       "    </tr>\n",
       "    <tr>\n",
       "      <th>2</th>\n",
       "      <td>The Godfather: Part II</td>\n",
       "      <td>Crime</td>\n",
       "    </tr>\n",
       "    <tr>\n",
       "      <th>3</th>\n",
       "      <td>The Dark Knight</td>\n",
       "      <td>Action</td>\n",
       "    </tr>\n",
       "    <tr>\n",
       "      <th>4</th>\n",
       "      <td>Pulp Fiction</td>\n",
       "      <td>Crime</td>\n",
       "    </tr>\n",
       "  </tbody>\n",
       "</table>\n",
       "</div>"
      ],
      "text/plain": [
       "                      title   genre\n",
       "0  The Shawshank Redemption   Crime\n",
       "1             The Godfather   Crime\n",
       "2    The Godfather: Part II   Crime\n",
       "3           The Dark Knight  Action\n",
       "4              Pulp Fiction   Crime"
      ]
     },
     "execution_count": 27,
     "metadata": {},
     "output_type": "execute_result"
    }
   ],
   "source": [
    "# show only movie title and genre\n",
    "imdb_df[['title','genre']].head()"
   ]
  },
  {
   "cell_type": "markdown",
   "metadata": {},
   "source": [
    "## Understanding columns\n",
    "\n",
    "On the inside, the type of a column is ``pd.Series`` and pandas Series are internally numpy arrays. If you add ``.values`` to the end of any Series, you'll get its internal **numpy array**."
   ]
  },
  {
   "cell_type": "code",
   "execution_count": 28,
   "metadata": {},
   "outputs": [
    {
     "data": {
      "text/plain": [
       "dtype('int64')"
      ]
     },
     "execution_count": 28,
     "metadata": {},
     "output_type": "execute_result"
    }
   ],
   "source": [
    "# show the type of duration column\n",
    "imdb_df['duration'].dtypes"
   ]
  },
  {
   "cell_type": "code",
   "execution_count": 30,
   "metadata": {},
   "outputs": [
    {
     "data": {
      "text/plain": [
       "array([142, 175, 200, 152, 154,  96, 161, 201, 195, 139, 178, 148, 124,\n",
       "       142, 179, 169, 133, 207, 146, 121, 136, 130, 130, 106, 127, 116,\n",
       "       175, 118, 110,  87, 125, 112, 102, 107, 119,  87, 169, 115, 112,\n",
       "       109, 189, 110, 150, 165, 155, 137, 113, 165,  95, 151, 155, 153,\n",
       "       125, 130, 116,  89, 137, 117,  88, 165, 170,  89, 146,  99,  98,\n",
       "       116, 156, 122, 149, 134, 122, 136, 157, 123, 119, 137, 128, 120,\n",
       "       229, 107, 134, 103, 177, 129, 102, 216, 136,  93,  68, 189,  99,\n",
       "       108, 113, 181, 103, 138, 110, 129,  88, 160, 126,  91, 116, 125,\n",
       "       143,  93, 102, 132, 153, 183, 160, 120, 138, 140, 153, 170, 129,\n",
       "        81, 127, 131, 172, 115, 108, 107, 129, 156,  96,  91,  95, 162,\n",
       "       130,  86, 186, 151,  96, 170, 118, 161, 131, 126, 131, 129, 224,\n",
       "       180, 105, 117, 140, 119, 124, 130, 139, 107, 132, 117, 126, 122,\n",
       "       178, 238, 149, 172,  98, 116, 116, 123, 148, 123, 182,  92,  93,\n",
       "       100, 135, 105,  94, 140,  83,  95,  98, 143,  99,  98, 121, 163,\n",
       "       121, 167, 188, 121, 109, 110, 129, 127,  94, 107, 100, 117, 129,\n",
       "       120, 121, 133, 111, 122, 101, 134, 165, 138, 212, 154,  89, 134,\n",
       "        93, 114,  88, 130, 101, 158,  99, 108, 124, 132, 113, 131, 191,\n",
       "       167, 130, 147, 102,  88, 165, 132, 118, 101, 108, 174,  98,  92,\n",
       "        98, 106,  85, 101, 105, 115, 115, 124, 105, 103, 138, 184, 120,\n",
       "        99, 131, 138,  98, 123, 118, 114, 118, 112, 124, 160,  67, 146,\n",
       "       125, 115, 134, 141, 129, 104,  94, 124, 150, 119, 128, 143,  85,\n",
       "       151, 118, 101,  99,  92, 125, 102, 106, 107,  91,  80, 122, 102,\n",
       "       112,  92, 135, 136, 153, 105, 126,  68,  84, 103, 145,  80, 106,\n",
       "       127, 178, 137, 172,  76, 130,  96,  82, 115,  95, 143, 125, 120,\n",
       "       127, 112, 104, 113, 189, 127, 188,  96, 113, 132, 122, 126, 140,\n",
       "       133, 112, 102,  93, 109,  81, 108, 111, 119,  96, 197, 127, 138,\n",
       "        66, 181, 141, 144, 128,  83, 121,  98, 117,  94, 174, 112, 108,\n",
       "        70,  99,  96, 137, 136, 100,  90,  96, 161, 115, 181, 169,  98,\n",
       "       136, 138, 119, 123, 112, 120, 103,  97, 109, 165, 156, 147, 100,\n",
       "       126, 115, 105, 144, 102, 107, 119,  90, 197,  86, 113, 133,  64,\n",
       "       141, 113, 122, 105, 119, 102, 122, 123, 113,  97, 117, 111,  85,\n",
       "        99, 134,  75, 109, 117,  91, 128, 111, 119, 100, 114,  92, 141,\n",
       "       101, 115, 127,  96, 129, 135, 109, 157, 193,  94, 155, 113, 130,\n",
       "       117, 159, 141, 112, 162, 126, 120, 144, 120, 109,  97, 108, 115,\n",
       "       136,  90, 170, 220, 116, 134, 124,  91, 103,  96, 119,  98, 101,\n",
       "        93, 179, 155, 121, 103, 127, 103, 107, 100,  92,  94, 158,  86,\n",
       "       115, 130, 107, 100, 108, 124, 131, 122, 242, 127, 141, 126,  89,\n",
       "       113, 152, 107,  92, 145,  84, 126, 132,  78, 117, 128, 100, 128,\n",
       "       100, 143, 107, 100, 125, 106, 157,  94, 104,  94, 153, 123, 120,\n",
       "       105, 166, 112,  94, 111,  87,  80, 108, 102, 105, 136, 101, 100,\n",
       "       108, 101, 106, 105,  88, 129, 138, 129, 118, 139, 123, 150, 132,\n",
       "        80, 178,  79, 163, 114, 144, 130, 154,  81,  95, 101, 120,  93,\n",
       "       115, 106, 120, 110, 123, 142,  99, 112, 120, 122, 130, 139, 129,\n",
       "       141, 127, 130, 118, 110, 115, 101, 112, 108, 143, 152, 117, 121,\n",
       "       119, 114, 122, 105, 110, 116, 139, 121, 109, 146, 113, 100, 121,\n",
       "       113, 113, 117,  93, 101,  90, 131,  98,  93, 121,  82, 124, 100,\n",
       "       117,  99, 116, 123, 114, 133, 105, 127, 144,  90, 118, 122, 102,\n",
       "       187,  87, 154,  89,  88, 129,  95, 118,  98, 194, 114,  80, 130,\n",
       "       135, 101, 105, 129, 134, 143, 202,  89, 106,  92, 137, 124, 122,\n",
       "       113, 112, 110, 135,  88, 146, 104, 125, 131,  91, 142, 129, 158,\n",
       "       102,  99, 101, 104, 119, 103,  88, 100, 146, 150, 140, 140, 110,\n",
       "        97, 102, 152, 100,  94,  85, 104, 112, 191, 119, 111,  94, 103,\n",
       "       134, 157, 158, 127, 101, 109,  98, 134, 168,  93, 145, 111,  88,\n",
       "       123, 121, 144, 116, 124, 147, 106, 113, 129,  94, 126, 128, 111,\n",
       "       146,  85, 105, 132, 130, 162, 113, 110, 113, 162, 110,  78,  92,\n",
       "        95, 138, 102, 128,  96, 164, 126, 110, 109, 122, 124, 128, 157,\n",
       "       120, 102, 152, 170, 102, 116, 164,  85, 104,  99,  81, 131, 101,\n",
       "       121,  69,  92,  94, 141, 116,  98, 135, 121, 108, 114, 102, 112,\n",
       "       140, 157, 128, 108, 139,  83, 131, 113, 136,  96, 118, 108,  83,\n",
       "       205, 124, 111, 137, 104, 109, 115,  99, 114, 133, 131, 131, 123,\n",
       "       126,  97, 126,  89, 122, 121, 125, 105, 118,  81, 115, 126, 113,\n",
       "       107, 126, 111,  85, 120,  93, 100, 107, 126, 131, 116, 143,  93,\n",
       "        96, 160, 137, 119, 114,  98, 111, 138, 144, 107, 114, 125, 146,\n",
       "       113,  85,  97,  93, 113, 128, 114, 147, 127, 167, 124, 109, 124,\n",
       "       102, 130, 125,  98, 154,  97, 128,  98, 101, 147, 172, 125,  88,\n",
       "       125, 121, 112, 120, 133, 110, 135, 110,  80, 135, 101, 112, 124,\n",
       "       129, 104,  96, 105, 109, 117,  78, 138, 106,  90, 106,  91, 112,\n",
       "       134, 112, 104, 101, 120, 123, 133, 110, 129, 120,  83,  88,  96,\n",
       "       139, 113,  84, 106, 170, 144, 104, 153,  85, 130,  93, 148, 115,\n",
       "       102, 125, 106, 121, 143, 116,  99, 116, 128, 119, 104, 114, 152,\n",
       "       129, 103, 112,  92, 141, 106, 109, 104, 122, 111, 112, 116, 130,\n",
       "       133, 134,  92, 104, 110,  97, 100, 118, 112, 138,  92, 118, 140,\n",
       "       128, 101,  75,  97, 111, 175,  94,  97, 132, 120, 107,  89,  86,\n",
       "       103, 108, 105, 117, 102, 104, 157, 104,  98, 109,  96, 103, 114,\n",
       "        99, 118, 150, 105,  87, 136, 162, 109, 107,  90, 112, 126, 116,\n",
       "       118, 138, 114, 126], dtype=int64)"
      ]
     },
     "execution_count": 30,
     "metadata": {},
     "output_type": "execute_result"
    }
   ],
   "source": [
    "# show duration values of movies as numpy arrays\n",
    "imdb_df['duration'].values"
   ]
  },
  {
   "cell_type": "markdown",
   "metadata": {},
   "source": [
    "## Applying functions to columns\n",
    "\n",
    "Use `.apply` function to apply any function to each element of a column."
   ]
  },
  {
   "cell_type": "code",
   "execution_count": 35,
   "metadata": {},
   "outputs": [
    {
     "data": {
      "text/plain": [
       "0                             THE SHAWSHANK REDEMPTION\n",
       "1                                        THE GODFATHER\n",
       "2                               THE GODFATHER: PART II\n",
       "3                                      THE DARK KNIGHT\n",
       "4                                         PULP FICTION\n",
       "                            ...                       \n",
       "974                                            TOOTSIE\n",
       "975                        BACK TO THE FUTURE PART III\n",
       "976    MASTER AND COMMANDER: THE FAR SIDE OF THE WORLD\n",
       "977                                        POLTERGEIST\n",
       "978                                        WALL STREET\n",
       "Name: title, Length: 979, dtype: object"
      ]
     },
     "execution_count": 35,
     "metadata": {},
     "output_type": "execute_result"
    }
   ],
   "source": [
    "# convert all the movie titles to uppercase\n",
    "upper = lambda x : x.upper()\n",
    "imdb_df['title'].apply(upper)"
   ]
  },
  {
   "cell_type": "markdown",
   "metadata": {},
   "source": [
    "## Plotting a column\n",
    "\n",
    "Use ``.plot()`` function!"
   ]
  },
  {
   "cell_type": "code",
   "execution_count": 41,
   "metadata": {},
   "outputs": [
    {
     "data": {
      "text/plain": [
       "<matplotlib.axes._subplots.AxesSubplot at 0x1f726d382b0>"
      ]
     },
     "execution_count": 41,
     "metadata": {},
     "output_type": "execute_result"
    },
    {
     "data": {
      "image/png": "[encoded data removed]",
      "text/plain": [
       "<Figure size 432x288 with 1 Axes>"
      ]
     },
     "metadata": {
      "needs_background": "light"
     },
     "output_type": "display_data"
    }
   ],
   "source": [
    "# plot the bikers travelling to Berri1 over the year\n",
    "bike_df['Berri1'].plot()"
   ]
  },
  {
   "cell_type": "code",
   "execution_count": 40,
   "metadata": {},
   "outputs": [
    {
     "data": {
      "text/plain": [
       "<matplotlib.axes._subplots.AxesSubplot at 0x1f726b9f4a8>"
      ]
     },
     "execution_count": 40,
     "metadata": {},
     "output_type": "execute_result"
    },
    {
     "data": {
      "image/png": "[encoded data removed]",
      "text/plain": [
       "<Figure size 432x288 with 1 Axes>"
      ]
     },
     "metadata": {
      "needs_background": "light"
     },
     "output_type": "display_data"
    }
   ],
   "source": [
    "# plot all the columns of bikes_df\n",
    "bike_df.plot()"
   ]
  },
  {
   "cell_type": "markdown",
   "metadata": {},
   "source": [
    "## Value counts\n",
    "\n",
    "Get count of unique values in a particular column/Series."
   ]
  },
  {
   "cell_type": "code",
   "execution_count": 44,
   "metadata": {},
   "outputs": [
    {
     "data": {
      "text/plain": [
       "Drama        278\n",
       "Comedy       156\n",
       "Action       136\n",
       "Crime        124\n",
       "Biography     77\n",
       "Adventure     75\n",
       "Animation     62\n",
       "Horror        29\n",
       "Mystery       16\n",
       "Western        9\n",
       "Sci-Fi         5\n",
       "Thriller       5\n",
       "Film-Noir      3\n",
       "Family         2\n",
       "History        1\n",
       "Fantasy        1\n",
       "Name: genre, dtype: int64"
      ]
     },
     "execution_count": 44,
     "metadata": {},
     "output_type": "execute_result"
    }
   ],
   "source": [
    "# what are the unique genre in imdb_df?\n",
    "imdb_df['genre'].value_counts()"
   ]
  },
  {
   "cell_type": "code",
   "execution_count": 46,
   "metadata": {},
   "outputs": [
    {
     "data": {
      "text/plain": [
       "<matplotlib.axes._subplots.AxesSubplot at 0x1f726edb8d0>"
      ]
     },
     "execution_count": 46,
     "metadata": {},
     "output_type": "execute_result"
    },
    {
     "data": {
      "image/png": "[encoded data removed]",
      "text/plain": [
       "<Figure size 432x288 with 1 Axes>"
      ]
     },
     "metadata": {
      "needs_background": "light"
     },
     "output_type": "display_data"
    }
   ],
   "source": [
    "# plotting value counts of unique genres as a bar chart\n",
    "imdb_df['genre'].value_counts().plot.bar()"
   ]
  },
  {
   "cell_type": "code",
   "execution_count": 47,
   "metadata": {},
   "outputs": [
    {
     "data": {
      "text/plain": [
       "<matplotlib.axes._subplots.AxesSubplot at 0x1f726f70438>"
      ]
     },
     "execution_count": 47,
     "metadata": {},
     "output_type": "execute_result"
    },
    {
     "data": {
      "image/png": "[encoded data removed]",
      "text/plain": [
       "<Figure size 432x288 with 1 Axes>"
      ]
     },
     "metadata": {},
     "output_type": "display_data"
    }
   ],
   "source": [
    "# plotting value counts of unique genres as a pie chart\n",
    "imdb_df['genre'].value_counts().plot.pie()"
   ]
  },
  {
   "cell_type": "markdown",
   "metadata": {},
   "source": [
    "## Index\n",
    "\n",
    "### DATAFRAME = COLUMNS + INDEX + ND DATA\n",
    "\n",
    "### SERIES = INDEX + 1-D DATA\n",
    "\n",
    "**Index** or (**row labels**) is one of the fundamental data structure of pandas. It can be thought of as an **immutable array** and an **ordered set**.\n",
    "\n",
    "> Every row is uniquely identified by its index value."
   ]
  },
  {
   "cell_type": "code",
   "execution_count": 51,
   "metadata": {},
   "outputs": [
    {
     "data": {
      "text/plain": [
       "DatetimeIndex(['2012-01-01', '2012-01-02', '2012-01-03', '2012-01-04',\n",
       "               '2012-01-05', '2012-01-06', '2012-01-07', '2012-01-08',\n",
       "               '2012-01-09', '2012-01-10',\n",
       "               ...\n",
       "               '2012-12-22', '2012-12-23', '2012-12-24', '2012-12-25',\n",
       "               '2012-12-26', '2012-12-27', '2012-12-28', '2012-12-29',\n",
       "               '2012-12-30', '2012-12-31'],\n",
       "              dtype='datetime64[ns]', name='Date', length=366, freq=None)"
      ]
     },
     "execution_count": 51,
     "metadata": {},
     "output_type": "execute_result"
    }
   ],
   "source": [
    "# show index of bikes_df\n",
    "bike_df.index"
   ]
  },
  {
   "cell_type": "code",
   "execution_count": 52,
   "metadata": {},
   "outputs": [
    {
     "data": {
      "text/plain": [
       "Unnamed: 1                     00:00\n",
       "Rachel / Papineau                 16\n",
       "Berri1                            35\n",
       "Maisonneuve_2                     51\n",
       "Maisonneuve_1                     38\n",
       "Brébeuf                            5\n",
       "Parc                              26\n",
       "PierDup                           10\n",
       "CSC (Côte Sainte-Catherine)        0\n",
       "Pont_Jacques_Cartier              27\n",
       "Name: 2012-01-01 00:00:00, dtype: object"
      ]
     },
     "execution_count": 52,
     "metadata": {},
     "output_type": "execute_result"
    }
   ],
   "source": [
    "# get row for date 2012-01-01\n",
    "bike_df.loc['2012-01-01']"
   ]
  },
  {
   "cell_type": "markdown",
   "metadata": {},
   "source": [
    "#### To get row by integer index:\n",
    "\n",
    "Use ``.iloc[]`` for purely integer-location based indexing for selection by position."
   ]
  },
  {
   "cell_type": "code",
   "execution_count": 56,
   "metadata": {},
   "outputs": [
    {
     "data": {
      "text/plain": [
       "star_rating                                                     8.8\n",
       "title             The Lord of the Rings: The Fellowship of the Ring\n",
       "content_rating                                                PG-13\n",
       "genre                                                     Adventure\n",
       "duration                                                        178\n",
       "actors_list       [u'Elijah Wood', u'Ian McKellen', u'Orlando Bl...\n",
       "Name: 10, dtype: object"
      ]
     },
     "execution_count": 56,
     "metadata": {},
     "output_type": "execute_result"
    }
   ],
   "source": [
    "# show 11th row of imdb_df using iloc\n",
    "imdb_df.iloc[10]"
   ]
  },
  {
   "cell_type": "markdown",
   "metadata": {},
   "source": [
    "## Selecting rows where column has a particular value"
   ]
  },
  {
   "cell_type": "code",
   "execution_count": 60,
   "metadata": {},
   "outputs": [
    {
     "data": {
      "text/html": [
       "<div>\n",
       "<style scoped>\n",
       "    .dataframe tbody tr th:only-of-type {\n",
       "        vertical-align: middle;\n",
       "    }\n",
       "\n",
       "    .dataframe tbody tr th {\n",
       "        vertical-align: top;\n",
       "    }\n",
       "\n",
       "    .dataframe thead th {\n",
       "        text-align: right;\n",
       "    }\n",
       "</style>\n",
       "<table border=\"1\" class=\"dataframe\">\n",
       "  <thead>\n",
       "    <tr style=\"text-align: right;\">\n",
       "      <th></th>\n",
       "      <th>star_rating</th>\n",
       "      <th>title</th>\n",
       "      <th>content_rating</th>\n",
       "      <th>genre</th>\n",
       "      <th>duration</th>\n",
       "      <th>actors_list</th>\n",
       "    </tr>\n",
       "  </thead>\n",
       "  <tbody>\n",
       "    <tr>\n",
       "      <th>7</th>\n",
       "      <td>8.9</td>\n",
       "      <td>The Lord of the Rings: The Return of the King</td>\n",
       "      <td>PG-13</td>\n",
       "      <td>Adventure</td>\n",
       "      <td>201</td>\n",
       "      <td>[u'Elijah Wood', u'Viggo Mortensen', u'Ian McK...</td>\n",
       "    </tr>\n",
       "    <tr>\n",
       "      <th>10</th>\n",
       "      <td>8.8</td>\n",
       "      <td>The Lord of the Rings: The Fellowship of the Ring</td>\n",
       "      <td>PG-13</td>\n",
       "      <td>Adventure</td>\n",
       "      <td>178</td>\n",
       "      <td>[u'Elijah Wood', u'Ian McKellen', u'Orlando Bl...</td>\n",
       "    </tr>\n",
       "    <tr>\n",
       "      <th>14</th>\n",
       "      <td>8.8</td>\n",
       "      <td>The Lord of the Rings: The Two Towers</td>\n",
       "      <td>PG-13</td>\n",
       "      <td>Adventure</td>\n",
       "      <td>179</td>\n",
       "      <td>[u'Elijah Wood', u'Ian McKellen', u'Viggo Mort...</td>\n",
       "    </tr>\n",
       "    <tr>\n",
       "      <th>15</th>\n",
       "      <td>8.7</td>\n",
       "      <td>Interstellar</td>\n",
       "      <td>PG-13</td>\n",
       "      <td>Adventure</td>\n",
       "      <td>169</td>\n",
       "      <td>[u'Matthew McConaughey', u'Anne Hathaway', u'J...</td>\n",
       "    </tr>\n",
       "    <tr>\n",
       "      <th>54</th>\n",
       "      <td>8.5</td>\n",
       "      <td>Back to the Future</td>\n",
       "      <td>PG</td>\n",
       "      <td>Adventure</td>\n",
       "      <td>116</td>\n",
       "      <td>[u'Michael J. Fox', u'Christopher Lloyd', u'Le...</td>\n",
       "    </tr>\n",
       "    <tr>\n",
       "      <th>...</th>\n",
       "      <td>...</td>\n",
       "      <td>...</td>\n",
       "      <td>...</td>\n",
       "      <td>...</td>\n",
       "      <td>...</td>\n",
       "      <td>...</td>\n",
       "    </tr>\n",
       "    <tr>\n",
       "      <th>936</th>\n",
       "      <td>7.4</td>\n",
       "      <td>True Grit</td>\n",
       "      <td>NaN</td>\n",
       "      <td>Adventure</td>\n",
       "      <td>128</td>\n",
       "      <td>[u'John Wayne', u'Kim Darby', u'Glen Campbell']</td>\n",
       "    </tr>\n",
       "    <tr>\n",
       "      <th>937</th>\n",
       "      <td>7.4</td>\n",
       "      <td>Labyrinth</td>\n",
       "      <td>PG</td>\n",
       "      <td>Adventure</td>\n",
       "      <td>101</td>\n",
       "      <td>[u'David Bowie', u'Jennifer Connelly', u'Toby ...</td>\n",
       "    </tr>\n",
       "    <tr>\n",
       "      <th>943</th>\n",
       "      <td>7.4</td>\n",
       "      <td>The Bucket List</td>\n",
       "      <td>PG-13</td>\n",
       "      <td>Adventure</td>\n",
       "      <td>97</td>\n",
       "      <td>[u'Jack Nicholson', u'Morgan Freeman', u'Sean ...</td>\n",
       "    </tr>\n",
       "    <tr>\n",
       "      <th>953</th>\n",
       "      <td>7.4</td>\n",
       "      <td>The NeverEnding Story</td>\n",
       "      <td>PG</td>\n",
       "      <td>Adventure</td>\n",
       "      <td>102</td>\n",
       "      <td>[u'Noah Hathaway', u'Barret Oliver', u'Tami St...</td>\n",
       "    </tr>\n",
       "    <tr>\n",
       "      <th>975</th>\n",
       "      <td>7.4</td>\n",
       "      <td>Back to the Future Part III</td>\n",
       "      <td>PG</td>\n",
       "      <td>Adventure</td>\n",
       "      <td>118</td>\n",
       "      <td>[u'Michael J. Fox', u'Christopher Lloyd', u'Ma...</td>\n",
       "    </tr>\n",
       "  </tbody>\n",
       "</table>\n",
       "<p>75 rows × 6 columns</p>\n",
       "</div>"
      ],
      "text/plain": [
       "     star_rating                                              title  \\\n",
       "7            8.9      The Lord of the Rings: The Return of the King   \n",
       "10           8.8  The Lord of the Rings: The Fellowship of the Ring   \n",
       "14           8.8              The Lord of the Rings: The Two Towers   \n",
       "15           8.7                                       Interstellar   \n",
       "54           8.5                                 Back to the Future   \n",
       "..           ...                                                ...   \n",
       "936          7.4                                          True Grit   \n",
       "937          7.4                                          Labyrinth   \n",
       "943          7.4                                    The Bucket List   \n",
       "953          7.4                              The NeverEnding Story   \n",
       "975          7.4                        Back to the Future Part III   \n",
       "\n",
       "    content_rating      genre  duration  \\\n",
       "7            PG-13  Adventure       201   \n",
       "10           PG-13  Adventure       178   \n",
       "14           PG-13  Adventure       179   \n",
       "15           PG-13  Adventure       169   \n",
       "54              PG  Adventure       116   \n",
       "..             ...        ...       ...   \n",
       "936            NaN  Adventure       128   \n",
       "937             PG  Adventure       101   \n",
       "943          PG-13  Adventure        97   \n",
       "953             PG  Adventure       102   \n",
       "975             PG  Adventure       118   \n",
       "\n",
       "                                           actors_list  \n",
       "7    [u'Elijah Wood', u'Viggo Mortensen', u'Ian McK...  \n",
       "10   [u'Elijah Wood', u'Ian McKellen', u'Orlando Bl...  \n",
       "14   [u'Elijah Wood', u'Ian McKellen', u'Viggo Mort...  \n",
       "15   [u'Matthew McConaughey', u'Anne Hathaway', u'J...  \n",
       "54   [u'Michael J. Fox', u'Christopher Lloyd', u'Le...  \n",
       "..                                                 ...  \n",
       "936    [u'John Wayne', u'Kim Darby', u'Glen Campbell']  \n",
       "937  [u'David Bowie', u'Jennifer Connelly', u'Toby ...  \n",
       "943  [u'Jack Nicholson', u'Morgan Freeman', u'Sean ...  \n",
       "953  [u'Noah Hathaway', u'Barret Oliver', u'Tami St...  \n",
       "975  [u'Michael J. Fox', u'Christopher Lloyd', u'Ma...  \n",
       "\n",
       "[75 rows x 6 columns]"
      ]
     },
     "execution_count": 60,
     "metadata": {},
     "output_type": "execute_result"
    }
   ],
   "source": [
    "# select only those movies where genre is adventure\n",
    "imdb_df[imdb_df['genre'] == 'Adventure']"
   ]
  },
  {
   "cell_type": "code",
   "execution_count": 64,
   "metadata": {},
   "outputs": [
    {
     "data": {
      "text/plain": [
       "Drama        36\n",
       "Action       20\n",
       "Adventure    17\n",
       "Crime        13\n",
       "Biography    12\n",
       "Comedy        6\n",
       "Western       6\n",
       "Mystery       3\n",
       "Horror        1\n",
       "Animation     1\n",
       "Name: genre, dtype: int64"
      ]
     },
     "execution_count": 64,
     "metadata": {},
     "output_type": "execute_result"
    }
   ],
   "source": [
    "# which genre has highest number of movies with star rating above 8 and duration more than 130 minutes?\n",
    "condi = (imdb_df['star_rating'] > 8) & (imdb_df['duration'] > 130)\n",
    "imdb_df[condi]['genre'].value_counts()"
   ]
  },
  {
   "cell_type": "markdown",
   "metadata": {},
   "source": [
    "## Adding a new column to DataFrame"
   ]
  },
  {
   "cell_type": "code",
   "execution_count": 66,
   "metadata": {},
   "outputs": [
    {
     "data": {
      "text/html": [
       "<div>\n",
       "<style scoped>\n",
       "    .dataframe tbody tr th:only-of-type {\n",
       "        vertical-align: middle;\n",
       "    }\n",
       "\n",
       "    .dataframe tbody tr th {\n",
       "        vertical-align: top;\n",
       "    }\n",
       "\n",
       "    .dataframe thead th {\n",
       "        text-align: right;\n",
       "    }\n",
       "</style>\n",
       "<table border=\"1\" class=\"dataframe\">\n",
       "  <thead>\n",
       "    <tr style=\"text-align: right;\">\n",
       "      <th></th>\n",
       "      <th>Unnamed: 1</th>\n",
       "      <th>Rachel / Papineau</th>\n",
       "      <th>Berri1</th>\n",
       "      <th>Maisonneuve_2</th>\n",
       "      <th>Maisonneuve_1</th>\n",
       "      <th>Brébeuf</th>\n",
       "      <th>Parc</th>\n",
       "      <th>PierDup</th>\n",
       "      <th>CSC (Côte Sainte-Catherine)</th>\n",
       "      <th>Pont_Jacques_Cartier</th>\n",
       "      <th>weekday</th>\n",
       "    </tr>\n",
       "    <tr>\n",
       "      <th>Date</th>\n",
       "      <th></th>\n",
       "      <th></th>\n",
       "      <th></th>\n",
       "      <th></th>\n",
       "      <th></th>\n",
       "      <th></th>\n",
       "      <th></th>\n",
       "      <th></th>\n",
       "      <th></th>\n",
       "      <th></th>\n",
       "      <th></th>\n",
       "    </tr>\n",
       "  </thead>\n",
       "  <tbody>\n",
       "    <tr>\n",
       "      <th>2012-01-01</th>\n",
       "      <td>00:00</td>\n",
       "      <td>16</td>\n",
       "      <td>35</td>\n",
       "      <td>51</td>\n",
       "      <td>38</td>\n",
       "      <td>5.0</td>\n",
       "      <td>26</td>\n",
       "      <td>10</td>\n",
       "      <td>0</td>\n",
       "      <td>27.0</td>\n",
       "      <td>6</td>\n",
       "    </tr>\n",
       "    <tr>\n",
       "      <th>2012-01-02</th>\n",
       "      <td>00:00</td>\n",
       "      <td>43</td>\n",
       "      <td>83</td>\n",
       "      <td>153</td>\n",
       "      <td>68</td>\n",
       "      <td>11.0</td>\n",
       "      <td>53</td>\n",
       "      <td>6</td>\n",
       "      <td>1</td>\n",
       "      <td>21.0</td>\n",
       "      <td>0</td>\n",
       "    </tr>\n",
       "    <tr>\n",
       "      <th>2012-01-03</th>\n",
       "      <td>00:00</td>\n",
       "      <td>58</td>\n",
       "      <td>135</td>\n",
       "      <td>248</td>\n",
       "      <td>104</td>\n",
       "      <td>2.0</td>\n",
       "      <td>89</td>\n",
       "      <td>3</td>\n",
       "      <td>2</td>\n",
       "      <td>15.0</td>\n",
       "      <td>1</td>\n",
       "    </tr>\n",
       "    <tr>\n",
       "      <th>2012-01-04</th>\n",
       "      <td>00:00</td>\n",
       "      <td>61</td>\n",
       "      <td>144</td>\n",
       "      <td>318</td>\n",
       "      <td>116</td>\n",
       "      <td>2.0</td>\n",
       "      <td>111</td>\n",
       "      <td>8</td>\n",
       "      <td>1</td>\n",
       "      <td>19.0</td>\n",
       "      <td>2</td>\n",
       "    </tr>\n",
       "    <tr>\n",
       "      <th>2012-01-05</th>\n",
       "      <td>00:00</td>\n",
       "      <td>95</td>\n",
       "      <td>197</td>\n",
       "      <td>330</td>\n",
       "      <td>124</td>\n",
       "      <td>6.0</td>\n",
       "      <td>97</td>\n",
       "      <td>13</td>\n",
       "      <td>2</td>\n",
       "      <td>16.0</td>\n",
       "      <td>3</td>\n",
       "    </tr>\n",
       "    <tr>\n",
       "      <th>...</th>\n",
       "      <td>...</td>\n",
       "      <td>...</td>\n",
       "      <td>...</td>\n",
       "      <td>...</td>\n",
       "      <td>...</td>\n",
       "      <td>...</td>\n",
       "      <td>...</td>\n",
       "      <td>...</td>\n",
       "      <td>...</td>\n",
       "      <td>...</td>\n",
       "      <td>...</td>\n",
       "    </tr>\n",
       "    <tr>\n",
       "      <th>2012-12-27</th>\n",
       "      <td>00:00</td>\n",
       "      <td>8</td>\n",
       "      <td>12</td>\n",
       "      <td>7</td>\n",
       "      <td>4</td>\n",
       "      <td>NaN</td>\n",
       "      <td>1</td>\n",
       "      <td>2</td>\n",
       "      <td>0</td>\n",
       "      <td>NaN</td>\n",
       "      <td>3</td>\n",
       "    </tr>\n",
       "    <tr>\n",
       "      <th>2012-12-28</th>\n",
       "      <td>00:00</td>\n",
       "      <td>0</td>\n",
       "      <td>35</td>\n",
       "      <td>3</td>\n",
       "      <td>38</td>\n",
       "      <td>NaN</td>\n",
       "      <td>0</td>\n",
       "      <td>0</td>\n",
       "      <td>0</td>\n",
       "      <td>NaN</td>\n",
       "      <td>4</td>\n",
       "    </tr>\n",
       "    <tr>\n",
       "      <th>2012-12-29</th>\n",
       "      <td>00:00</td>\n",
       "      <td>0</td>\n",
       "      <td>27</td>\n",
       "      <td>8</td>\n",
       "      <td>42</td>\n",
       "      <td>NaN</td>\n",
       "      <td>9</td>\n",
       "      <td>0</td>\n",
       "      <td>0</td>\n",
       "      <td>NaN</td>\n",
       "      <td>5</td>\n",
       "    </tr>\n",
       "    <tr>\n",
       "      <th>2012-12-30</th>\n",
       "      <td>00:00</td>\n",
       "      <td>0</td>\n",
       "      <td>5</td>\n",
       "      <td>1</td>\n",
       "      <td>5</td>\n",
       "      <td>NaN</td>\n",
       "      <td>6</td>\n",
       "      <td>0</td>\n",
       "      <td>0</td>\n",
       "      <td>NaN</td>\n",
       "      <td>6</td>\n",
       "    </tr>\n",
       "    <tr>\n",
       "      <th>2012-12-31</th>\n",
       "      <td>00:00</td>\n",
       "      <td>0</td>\n",
       "      <td>4</td>\n",
       "      <td>3</td>\n",
       "      <td>8</td>\n",
       "      <td>NaN</td>\n",
       "      <td>12</td>\n",
       "      <td>0</td>\n",
       "      <td>0</td>\n",
       "      <td>NaN</td>\n",
       "      <td>0</td>\n",
       "    </tr>\n",
       "  </tbody>\n",
       "</table>\n",
       "<p>366 rows × 11 columns</p>\n",
       "</div>"
      ],
      "text/plain": [
       "           Unnamed: 1  Rachel / Papineau  Berri1  Maisonneuve_2  \\\n",
       "Date                                                              \n",
       "2012-01-01      00:00                 16      35             51   \n",
       "2012-01-02      00:00                 43      83            153   \n",
       "2012-01-03      00:00                 58     135            248   \n",
       "2012-01-04      00:00                 61     144            318   \n",
       "2012-01-05      00:00                 95     197            330   \n",
       "...               ...                ...     ...            ...   \n",
       "2012-12-27      00:00                  8      12              7   \n",
       "2012-12-28      00:00                  0      35              3   \n",
       "2012-12-29      00:00                  0      27              8   \n",
       "2012-12-30      00:00                  0       5              1   \n",
       "2012-12-31      00:00                  0       4              3   \n",
       "\n",
       "            Maisonneuve_1  Brébeuf  Parc  PierDup  \\\n",
       "Date                                                \n",
       "2012-01-01             38      5.0    26       10   \n",
       "2012-01-02             68     11.0    53        6   \n",
       "2012-01-03            104      2.0    89        3   \n",
       "2012-01-04            116      2.0   111        8   \n",
       "2012-01-05            124      6.0    97       13   \n",
       "...                   ...      ...   ...      ...   \n",
       "2012-12-27              4      NaN     1        2   \n",
       "2012-12-28             38      NaN     0        0   \n",
       "2012-12-29             42      NaN     9        0   \n",
       "2012-12-30              5      NaN     6        0   \n",
       "2012-12-31              8      NaN    12        0   \n",
       "\n",
       "            CSC (Côte Sainte-Catherine)  Pont_Jacques_Cartier  weekday  \n",
       "Date                                                                    \n",
       "2012-01-01                            0                  27.0        6  \n",
       "2012-01-02                            1                  21.0        0  \n",
       "2012-01-03                            2                  15.0        1  \n",
       "2012-01-04                            1                  19.0        2  \n",
       "2012-01-05                            2                  16.0        3  \n",
       "...                                 ...                   ...      ...  \n",
       "2012-12-27                            0                   NaN        3  \n",
       "2012-12-28                            0                   NaN        4  \n",
       "2012-12-29                            0                   NaN        5  \n",
       "2012-12-30                            0                   NaN        6  \n",
       "2012-12-31                            0                   NaN        0  \n",
       "\n",
       "[366 rows x 11 columns]"
      ]
     },
     "execution_count": 66,
     "metadata": {},
     "output_type": "execute_result"
    }
   ],
   "source": [
    "# add a weekday column to bikes_df\n",
    "bike_df['weekday'] = bike_df.index.weekday\n",
    "bike_df"
   ]
  },
  {
   "cell_type": "markdown",
   "metadata": {},
   "source": [
    "## Deleting an existing column from DataFrame"
   ]
  },
  {
   "cell_type": "code",
   "execution_count": 68,
   "metadata": {},
   "outputs": [],
   "source": [
    "# remove column 'Unnamed: 1' from bikes_df'\n",
    "bike_df.drop('Unnamed: 1',axis = 1,inplace = True)"
   ]
  },
  {
   "cell_type": "markdown",
   "metadata": {},
   "source": [
    "## Deleting a row in DataFrame"
   ]
  },
  {
   "cell_type": "code",
   "execution_count": 70,
   "metadata": {},
   "outputs": [
    {
     "data": {
      "text/html": [
       "<div>\n",
       "<style scoped>\n",
       "    .dataframe tbody tr th:only-of-type {\n",
       "        vertical-align: middle;\n",
       "    }\n",
       "\n",
       "    .dataframe tbody tr th {\n",
       "        vertical-align: top;\n",
       "    }\n",
       "\n",
       "    .dataframe thead th {\n",
       "        text-align: right;\n",
       "    }\n",
       "</style>\n",
       "<table border=\"1\" class=\"dataframe\">\n",
       "  <thead>\n",
       "    <tr style=\"text-align: right;\">\n",
       "      <th></th>\n",
       "      <th>Rachel / Papineau</th>\n",
       "      <th>Berri1</th>\n",
       "      <th>Maisonneuve_2</th>\n",
       "      <th>Maisonneuve_1</th>\n",
       "      <th>Brébeuf</th>\n",
       "      <th>Parc</th>\n",
       "      <th>PierDup</th>\n",
       "      <th>CSC (Côte Sainte-Catherine)</th>\n",
       "      <th>Pont_Jacques_Cartier</th>\n",
       "      <th>weekday</th>\n",
       "    </tr>\n",
       "    <tr>\n",
       "      <th>Date</th>\n",
       "      <th></th>\n",
       "      <th></th>\n",
       "      <th></th>\n",
       "      <th></th>\n",
       "      <th></th>\n",
       "      <th></th>\n",
       "      <th></th>\n",
       "      <th></th>\n",
       "      <th></th>\n",
       "      <th></th>\n",
       "    </tr>\n",
       "  </thead>\n",
       "  <tbody>\n",
       "    <tr>\n",
       "      <th>2012-01-03</th>\n",
       "      <td>58</td>\n",
       "      <td>135</td>\n",
       "      <td>248</td>\n",
       "      <td>104</td>\n",
       "      <td>2.0</td>\n",
       "      <td>89</td>\n",
       "      <td>3</td>\n",
       "      <td>2</td>\n",
       "      <td>15.0</td>\n",
       "      <td>1</td>\n",
       "    </tr>\n",
       "    <tr>\n",
       "      <th>2012-01-04</th>\n",
       "      <td>61</td>\n",
       "      <td>144</td>\n",
       "      <td>318</td>\n",
       "      <td>116</td>\n",
       "      <td>2.0</td>\n",
       "      <td>111</td>\n",
       "      <td>8</td>\n",
       "      <td>1</td>\n",
       "      <td>19.0</td>\n",
       "      <td>2</td>\n",
       "    </tr>\n",
       "    <tr>\n",
       "      <th>2012-01-05</th>\n",
       "      <td>95</td>\n",
       "      <td>197</td>\n",
       "      <td>330</td>\n",
       "      <td>124</td>\n",
       "      <td>6.0</td>\n",
       "      <td>97</td>\n",
       "      <td>13</td>\n",
       "      <td>2</td>\n",
       "      <td>16.0</td>\n",
       "      <td>3</td>\n",
       "    </tr>\n",
       "    <tr>\n",
       "      <th>2012-01-06</th>\n",
       "      <td>75</td>\n",
       "      <td>146</td>\n",
       "      <td>244</td>\n",
       "      <td>98</td>\n",
       "      <td>4.0</td>\n",
       "      <td>86</td>\n",
       "      <td>4</td>\n",
       "      <td>0</td>\n",
       "      <td>17.0</td>\n",
       "      <td>4</td>\n",
       "    </tr>\n",
       "    <tr>\n",
       "      <th>2012-01-07</th>\n",
       "      <td>54</td>\n",
       "      <td>98</td>\n",
       "      <td>108</td>\n",
       "      <td>80</td>\n",
       "      <td>5.0</td>\n",
       "      <td>53</td>\n",
       "      <td>6</td>\n",
       "      <td>2</td>\n",
       "      <td>9.0</td>\n",
       "      <td>5</td>\n",
       "    </tr>\n",
       "  </tbody>\n",
       "</table>\n",
       "</div>"
      ],
      "text/plain": [
       "            Rachel / Papineau  Berri1  Maisonneuve_2  Maisonneuve_1  Brébeuf  \\\n",
       "Date                                                                           \n",
       "2012-01-03                 58     135            248            104      2.0   \n",
       "2012-01-04                 61     144            318            116      2.0   \n",
       "2012-01-05                 95     197            330            124      6.0   \n",
       "2012-01-06                 75     146            244             98      4.0   \n",
       "2012-01-07                 54      98            108             80      5.0   \n",
       "\n",
       "            Parc  PierDup  CSC (Côte Sainte-Catherine)  Pont_Jacques_Cartier  \\\n",
       "Date                                                                           \n",
       "2012-01-03    89        3                            2                  15.0   \n",
       "2012-01-04   111        8                            1                  19.0   \n",
       "2012-01-05    97       13                            2                  16.0   \n",
       "2012-01-06    86        4                            0                  17.0   \n",
       "2012-01-07    53        6                            2                   9.0   \n",
       "\n",
       "            weekday  \n",
       "Date                 \n",
       "2012-01-03        1  \n",
       "2012-01-04        2  \n",
       "2012-01-05        3  \n",
       "2012-01-06        4  \n",
       "2012-01-07        5  "
      ]
     },
     "execution_count": 70,
     "metadata": {},
     "output_type": "execute_result"
    }
   ],
   "source": [
    "# remove row no. 1 from bikes_df\n",
    "bike_df.drop(bike_df.index[0]).head()"
   ]
  },
  {
   "cell_type": "markdown",
   "metadata": {},
   "source": [
    "## Group By\n",
    "\n",
    "Any groupby operation involves one of the following operations on the original object. They are −\n",
    "\n",
    "- Splitting the Object\n",
    "\n",
    "- Applying a function\n",
    "\n",
    "- Combining the results\n",
    "\n",
    "In many situations, we split the data into sets and we apply some functionality on each subset. In the apply functionality, we can perform the following operations −\n",
    "\n",
    "- **Aggregation** − computing a summary statistic\n",
    "\n",
    "- **Transformation** − perform some group-specific operation\n",
    "\n",
    "- **Filtration** − discarding the data with some condition"
   ]
  },
  {
   "cell_type": "code",
   "execution_count": 72,
   "metadata": {},
   "outputs": [
    {
     "data": {
      "text/plain": [
       "<pandas.core.groupby.generic.DataFrameGroupBy object at 0x000001F728014E10>"
      ]
     },
     "execution_count": 72,
     "metadata": {},
     "output_type": "execute_result"
    }
   ],
   "source": [
    "# group imdb_df by movie genres\n",
    "grouped_genre = imdb_df.groupby(\"genre\")\n",
    "grouped_genre"
   ]
  },
  {
   "cell_type": "code",
   "execution_count": 75,
   "metadata": {},
   "outputs": [
    {
     "data": {
      "text/html": [
       "<div>\n",
       "<style scoped>\n",
       "    .dataframe tbody tr th:only-of-type {\n",
       "        vertical-align: middle;\n",
       "    }\n",
       "\n",
       "    .dataframe tbody tr th {\n",
       "        vertical-align: top;\n",
       "    }\n",
       "\n",
       "    .dataframe thead th {\n",
       "        text-align: right;\n",
       "    }\n",
       "</style>\n",
       "<table border=\"1\" class=\"dataframe\">\n",
       "  <thead>\n",
       "    <tr style=\"text-align: right;\">\n",
       "      <th></th>\n",
       "      <th>star_rating</th>\n",
       "      <th>title</th>\n",
       "      <th>content_rating</th>\n",
       "      <th>genre</th>\n",
       "      <th>duration</th>\n",
       "      <th>actors_list</th>\n",
       "    </tr>\n",
       "  </thead>\n",
       "  <tbody>\n",
       "    <tr>\n",
       "      <th>0</th>\n",
       "      <td>9.3</td>\n",
       "      <td>The Shawshank Redemption</td>\n",
       "      <td>R</td>\n",
       "      <td>Crime</td>\n",
       "      <td>142</td>\n",
       "      <td>[u'Tim Robbins', u'Morgan Freeman', u'Bob Gunt...</td>\n",
       "    </tr>\n",
       "    <tr>\n",
       "      <th>1</th>\n",
       "      <td>9.2</td>\n",
       "      <td>The Godfather</td>\n",
       "      <td>R</td>\n",
       "      <td>Crime</td>\n",
       "      <td>175</td>\n",
       "      <td>[u'Marlon Brando', u'Al Pacino', u'James Caan']</td>\n",
       "    </tr>\n",
       "    <tr>\n",
       "      <th>2</th>\n",
       "      <td>9.1</td>\n",
       "      <td>The Godfather: Part II</td>\n",
       "      <td>R</td>\n",
       "      <td>Crime</td>\n",
       "      <td>200</td>\n",
       "      <td>[u'Al Pacino', u'Robert De Niro', u'Robert Duv...</td>\n",
       "    </tr>\n",
       "    <tr>\n",
       "      <th>4</th>\n",
       "      <td>8.9</td>\n",
       "      <td>Pulp Fiction</td>\n",
       "      <td>R</td>\n",
       "      <td>Crime</td>\n",
       "      <td>154</td>\n",
       "      <td>[u'John Travolta', u'Uma Thurman', u'Samuel L....</td>\n",
       "    </tr>\n",
       "    <tr>\n",
       "      <th>21</th>\n",
       "      <td>8.7</td>\n",
       "      <td>City of God</td>\n",
       "      <td>R</td>\n",
       "      <td>Crime</td>\n",
       "      <td>130</td>\n",
       "      <td>[u'Alexandre Rodrigues', u'Matheus Nachtergael...</td>\n",
       "    </tr>\n",
       "  </tbody>\n",
       "</table>\n",
       "</div>"
      ],
      "text/plain": [
       "    star_rating                     title content_rating  genre  duration  \\\n",
       "0           9.3  The Shawshank Redemption              R  Crime       142   \n",
       "1           9.2             The Godfather              R  Crime       175   \n",
       "2           9.1    The Godfather: Part II              R  Crime       200   \n",
       "4           8.9              Pulp Fiction              R  Crime       154   \n",
       "21          8.7               City of God              R  Crime       130   \n",
       "\n",
       "                                          actors_list  \n",
       "0   [u'Tim Robbins', u'Morgan Freeman', u'Bob Gunt...  \n",
       "1     [u'Marlon Brando', u'Al Pacino', u'James Caan']  \n",
       "2   [u'Al Pacino', u'Robert De Niro', u'Robert Duv...  \n",
       "4   [u'John Travolta', u'Uma Thurman', u'Samuel L....  \n",
       "21  [u'Alexandre Rodrigues', u'Matheus Nachtergael...  "
      ]
     },
     "execution_count": 75,
     "metadata": {},
     "output_type": "execute_result"
    }
   ],
   "source": [
    "# get crime movies group\n",
    "grouped_genre.get_group('Crime').head()"
   ]
  },
  {
   "cell_type": "code",
   "execution_count": 76,
   "metadata": {},
   "outputs": [
    {
     "data": {
      "text/html": [
       "<div>\n",
       "<style scoped>\n",
       "    .dataframe tbody tr th:only-of-type {\n",
       "        vertical-align: middle;\n",
       "    }\n",
       "\n",
       "    .dataframe tbody tr th {\n",
       "        vertical-align: top;\n",
       "    }\n",
       "\n",
       "    .dataframe thead th {\n",
       "        text-align: right;\n",
       "    }\n",
       "</style>\n",
       "<table border=\"1\" class=\"dataframe\">\n",
       "  <thead>\n",
       "    <tr style=\"text-align: right;\">\n",
       "      <th></th>\n",
       "      <th>star_rating</th>\n",
       "      <th>duration</th>\n",
       "    </tr>\n",
       "    <tr>\n",
       "      <th>genre</th>\n",
       "      <th></th>\n",
       "      <th></th>\n",
       "    </tr>\n",
       "  </thead>\n",
       "  <tbody>\n",
       "    <tr>\n",
       "      <th>Action</th>\n",
       "      <td>7.884559</td>\n",
       "      <td>126.485294</td>\n",
       "    </tr>\n",
       "    <tr>\n",
       "      <th>Adventure</th>\n",
       "      <td>7.933333</td>\n",
       "      <td>134.840000</td>\n",
       "    </tr>\n",
       "    <tr>\n",
       "      <th>Animation</th>\n",
       "      <td>7.914516</td>\n",
       "      <td>96.596774</td>\n",
       "    </tr>\n",
       "    <tr>\n",
       "      <th>Biography</th>\n",
       "      <td>7.862338</td>\n",
       "      <td>131.844156</td>\n",
       "    </tr>\n",
       "    <tr>\n",
       "      <th>Comedy</th>\n",
       "      <td>7.822436</td>\n",
       "      <td>107.602564</td>\n",
       "    </tr>\n",
       "    <tr>\n",
       "      <th>Crime</th>\n",
       "      <td>7.916935</td>\n",
       "      <td>122.298387</td>\n",
       "    </tr>\n",
       "    <tr>\n",
       "      <th>Drama</th>\n",
       "      <td>7.902518</td>\n",
       "      <td>126.539568</td>\n",
       "    </tr>\n",
       "    <tr>\n",
       "      <th>Family</th>\n",
       "      <td>7.850000</td>\n",
       "      <td>107.500000</td>\n",
       "    </tr>\n",
       "    <tr>\n",
       "      <th>Fantasy</th>\n",
       "      <td>7.700000</td>\n",
       "      <td>112.000000</td>\n",
       "    </tr>\n",
       "    <tr>\n",
       "      <th>Film-Noir</th>\n",
       "      <td>8.033333</td>\n",
       "      <td>97.333333</td>\n",
       "    </tr>\n",
       "    <tr>\n",
       "      <th>History</th>\n",
       "      <td>8.000000</td>\n",
       "      <td>66.000000</td>\n",
       "    </tr>\n",
       "    <tr>\n",
       "      <th>Horror</th>\n",
       "      <td>7.806897</td>\n",
       "      <td>102.517241</td>\n",
       "    </tr>\n",
       "    <tr>\n",
       "      <th>Mystery</th>\n",
       "      <td>7.975000</td>\n",
       "      <td>115.625000</td>\n",
       "    </tr>\n",
       "    <tr>\n",
       "      <th>Sci-Fi</th>\n",
       "      <td>7.920000</td>\n",
       "      <td>109.000000</td>\n",
       "    </tr>\n",
       "    <tr>\n",
       "      <th>Thriller</th>\n",
       "      <td>7.680000</td>\n",
       "      <td>114.200000</td>\n",
       "    </tr>\n",
       "    <tr>\n",
       "      <th>Western</th>\n",
       "      <td>8.255556</td>\n",
       "      <td>136.666667</td>\n",
       "    </tr>\n",
       "  </tbody>\n",
       "</table>\n",
       "</div>"
      ],
      "text/plain": [
       "           star_rating    duration\n",
       "genre                             \n",
       "Action        7.884559  126.485294\n",
       "Adventure     7.933333  134.840000\n",
       "Animation     7.914516   96.596774\n",
       "Biography     7.862338  131.844156\n",
       "Comedy        7.822436  107.602564\n",
       "Crime         7.916935  122.298387\n",
       "Drama         7.902518  126.539568\n",
       "Family        7.850000  107.500000\n",
       "Fantasy       7.700000  112.000000\n",
       "Film-Noir     8.033333   97.333333\n",
       "History       8.000000   66.000000\n",
       "Horror        7.806897  102.517241\n",
       "Mystery       7.975000  115.625000\n",
       "Sci-Fi        7.920000  109.000000\n",
       "Thriller      7.680000  114.200000\n",
       "Western       8.255556  136.666667"
      ]
     },
     "execution_count": 76,
     "metadata": {},
     "output_type": "execute_result"
    }
   ],
   "source": [
    "# get mean of movie durations for each group\n",
    "grouped_genre.mean()"
   ]
  },
  {
   "cell_type": "code",
   "execution_count": null,
   "metadata": {},
   "outputs": [],
   "source": [
    "# change duration of all movies in a particular genre to mean duration of the group\n",
    "imdb_df['mean_dur'] = im"
   ]
  },
  {
   "cell_type": "code",
   "execution_count": null,
   "metadata": {},
   "outputs": [],
   "source": [
    "# drop groups/genres that do not have average movie duration greater than 120."
   ]
  },
  {
   "cell_type": "code",
   "execution_count": null,
   "metadata": {},
   "outputs": [],
   "source": [
    "# group weekday wise bikers count"
   ]
  },
  {
   "cell_type": "code",
   "execution_count": null,
   "metadata": {},
   "outputs": [],
   "source": [
    "# get weekday wise biker count"
   ]
  },
  {
   "cell_type": "code",
   "execution_count": null,
   "metadata": {},
   "outputs": [],
   "source": [
    "# plot weekday wise biker count for 'Berri1'"
   ]
  },
  {
   "cell_type": "markdown",
   "metadata": {},
   "source": [
    "![](https://memegenerator.net/img/instances/500x/73988569/pythonpandas-is-easy-import-and-go.jpg)"
   ]
  }
 ],
 "metadata": {
  "kernelspec": {
   "display_name": "Python 3",
   "language": "python",
   "name": "python3"
  },
  "language_info": {
   "codemirror_mode": {
    "name": "ipython",
    "version": 3
   },
   "file_extension": ".py",
   "mimetype": "text/x-python",
   "name": "python",
   "nbconvert_exporter": "python",
   "pygments_lexer": "ipython3",
   "version": "3.7.3"
  }
 },
 "nbformat": 4,
 "nbformat_minor": 2
}
